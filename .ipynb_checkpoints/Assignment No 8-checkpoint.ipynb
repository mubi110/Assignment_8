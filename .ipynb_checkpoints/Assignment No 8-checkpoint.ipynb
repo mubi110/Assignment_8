{
 "cells": [
  {
   "cell_type": "code",
   "execution_count": 1,
   "id": "c1a27dbe-9047-4655-9603-e6d15e76ef30",
   "metadata": {},
   "outputs": [],
   "source": [
    "import csv"
   ]
  },
  {
   "cell_type": "code",
   "execution_count": 5,
   "id": "ad94778c-7f5a-4ae8-b0a8-035752e21402",
   "metadata": {},
   "outputs": [
    {
     "data": {
      "text/plain": [
       "<_io.TextIOWrapper name='student data.csv' mode='r' encoding='cp1252'>"
      ]
     },
     "execution_count": 5,
     "metadata": {},
     "output_type": "execute_result"
    }
   ],
   "source": [
    "open_file = open('student data.csv', mode='r')\n",
    "open_file"
   ]
  },
  {
   "cell_type": "code",
   "execution_count": 7,
   "id": "472d2e83-0544-40e5-81ec-f3628bf1f868",
   "metadata": {},
   "outputs": [
    {
     "data": {
      "text/plain": [
       "<_csv.reader at 0x1b01358b2e0>"
      ]
     },
     "execution_count": 7,
     "metadata": {},
     "output_type": "execute_result"
    }
   ],
   "source": [
    "file_read = csv.reader(open_file)\n",
    "file_read"
   ]
  },
  {
   "cell_type": "code",
   "execution_count": 9,
   "id": "7ee3311a-8686-4721-9518-36cf534de85f",
   "metadata": {},
   "outputs": [
    {
     "data": {
      "text/plain": [
       "[['roll no', 'Name', 'Chemistry', 'Physics', 'Math'],\n",
       " ['101', 'Aliza', '50', '23', '87'],\n",
       " ['102', 'Fareed', '45', '24', '88'],\n",
       " ['103', 'Basit', '46', '25', '89'],\n",
       " ['104', 'Abdullah', '47', '26', '90'],\n",
       " ['105', 'Ali', '48', '27', '67'],\n",
       " ['106', 'Mubashir', '49', '28', '68'],\n",
       " ['107', 'Waleed', '50', '29', '69'],\n",
       " ['108', 'Mansoor', '51', '30', '70'],\n",
       " ['109', 'Zain', '52', '31', '71'],\n",
       " ['110', 'Mohsin', '53', '67', '72'],\n",
       " ['111', 'Shahmeer', '54', '68', '73'],\n",
       " ['112', 'Rao', '55', '69', '74'],\n",
       " ['113', 'Aurangzeb', '56', '70', '75'],\n",
       " ['114', 'Zeeshan', '57', '71', '76'],\n",
       " ['115', 'Hamna', '58', '72', '77'],\n",
       " ['116', 'Hamza', '59', '73', '78'],\n",
       " ['117', 'Khalid', '60', '74', '79'],\n",
       " ['118', 'Behroz', '61', '75', '80'],\n",
       " ['119', 'Justin', '62', '76', '81'],\n",
       " ['120', 'Danish', '63', '77', '82'],\n",
       " ['121', 'Kainat', '64', '78', '83'],\n",
       " ['122', 'Sameer', '65', '79', '84'],\n",
       " ['123', 'Raza', '66', '80', '85'],\n",
       " ['124', 'Kumar', '67', '81', '86'],\n",
       " ['125', 'Komal', '68', '82', '87'],\n",
       " ['126', 'Erum', '69', '83', '88'],\n",
       " ['127', 'Faiza', '70', '84', '89'],\n",
       " ['128', 'Saeed', '71', '85', '90'],\n",
       " ['129', 'Waqar', '72', '86', '91'],\n",
       " ['130', 'Wali', '73', '87', '92'],\n",
       " ['131', 'Wajid', '74', '88', '93'],\n",
       " ['132', 'Waseeb', '75', '89', '94'],\n",
       " ['133', 'Shiza', '76', '90', '95'],\n",
       " ['134', 'Shabina', '77', '91', '96'],\n",
       " ['135', 'Shazain', '78', '55', '97'],\n",
       " ['136', 'Lubna', '79', '61', '98'],\n",
       " ['137', 'Laiba', '80', '88', '78'],\n",
       " ['138', 'Khursheed', '81', '56', '45'],\n",
       " ['139', 'Ali', '82', '89', '46'],\n",
       " ['140', 'Aiza', '83', '45', '89'],\n",
       " ['141', 'Aiman', '84', '92', '78'],\n",
       " ['142', 'Yasmeen', '85', '36', '56'],\n",
       " ['143', 'Tasbeel', '86', '78', '78'],\n",
       " ['144', 'Laraib', '87', '56', '54'],\n",
       " ['145', 'Saleem', '88', '78', '78'],\n",
       " ['146', 'Bismil', '89', '89', '46'],\n",
       " ['147', 'Batool', '90', '56', '79'],\n",
       " ['148', 'Iqra', '91', '33', '46'],\n",
       " ['149', 'Zarnish', '92', '78', '45'],\n",
       " ['150', 'Zara', '83', '45', '56']]"
      ]
     },
     "execution_count": 9,
     "metadata": {},
     "output_type": "execute_result"
    }
   ],
   "source": [
    "data = list(file_read)\n",
    "data"
   ]
  },
  {
   "cell_type": "code",
   "execution_count": 11,
   "id": "d2c82467-0b4d-4c3b-bb56-8d01390e9219",
   "metadata": {},
   "outputs": [
    {
     "name": "stdout",
     "output_type": "stream",
     "text": [
      "['roll no', 'Name', 'Chemistry', 'Physics', 'Math']\n"
     ]
    }
   ],
   "source": [
    "print(data[0])"
   ]
  },
  {
   "cell_type": "code",
   "execution_count": 13,
   "id": "a01a2873-a656-4ad5-9c0a-398e3863eb43",
   "metadata": {},
   "outputs": [
    {
     "data": {
      "text/plain": [
       "['roll no', 'Name', 'Chemistry', 'Physics', 'Math']"
      ]
     },
     "execution_count": 13,
     "metadata": {},
     "output_type": "execute_result"
    }
   ],
   "source": [
    "header = data[0]\n",
    "header"
   ]
  },
  {
   "cell_type": "code",
   "execution_count": 15,
   "id": "5b16c56e-9732-4b03-8e39-3bc3baf80c0e",
   "metadata": {},
   "outputs": [
    {
     "data": {
      "text/plain": [
       "[['101', 'Aliza', '50', '23', '87'],\n",
       " ['102', 'Fareed', '45', '24', '88'],\n",
       " ['103', 'Basit', '46', '25', '89'],\n",
       " ['104', 'Abdullah', '47', '26', '90'],\n",
       " ['105', 'Ali', '48', '27', '67'],\n",
       " ['106', 'Mubashir', '49', '28', '68'],\n",
       " ['107', 'Waleed', '50', '29', '69'],\n",
       " ['108', 'Mansoor', '51', '30', '70'],\n",
       " ['109', 'Zain', '52', '31', '71'],\n",
       " ['110', 'Mohsin', '53', '67', '72'],\n",
       " ['111', 'Shahmeer', '54', '68', '73'],\n",
       " ['112', 'Rao', '55', '69', '74'],\n",
       " ['113', 'Aurangzeb', '56', '70', '75'],\n",
       " ['114', 'Zeeshan', '57', '71', '76'],\n",
       " ['115', 'Hamna', '58', '72', '77'],\n",
       " ['116', 'Hamza', '59', '73', '78'],\n",
       " ['117', 'Khalid', '60', '74', '79'],\n",
       " ['118', 'Behroz', '61', '75', '80'],\n",
       " ['119', 'Justin', '62', '76', '81'],\n",
       " ['120', 'Danish', '63', '77', '82'],\n",
       " ['121', 'Kainat', '64', '78', '83'],\n",
       " ['122', 'Sameer', '65', '79', '84'],\n",
       " ['123', 'Raza', '66', '80', '85'],\n",
       " ['124', 'Kumar', '67', '81', '86'],\n",
       " ['125', 'Komal', '68', '82', '87'],\n",
       " ['126', 'Erum', '69', '83', '88'],\n",
       " ['127', 'Faiza', '70', '84', '89'],\n",
       " ['128', 'Saeed', '71', '85', '90'],\n",
       " ['129', 'Waqar', '72', '86', '91'],\n",
       " ['130', 'Wali', '73', '87', '92'],\n",
       " ['131', 'Wajid', '74', '88', '93'],\n",
       " ['132', 'Waseeb', '75', '89', '94'],\n",
       " ['133', 'Shiza', '76', '90', '95'],\n",
       " ['134', 'Shabina', '77', '91', '96'],\n",
       " ['135', 'Shazain', '78', '55', '97'],\n",
       " ['136', 'Lubna', '79', '61', '98'],\n",
       " ['137', 'Laiba', '80', '88', '78'],\n",
       " ['138', 'Khursheed', '81', '56', '45'],\n",
       " ['139', 'Ali', '82', '89', '46'],\n",
       " ['140', 'Aiza', '83', '45', '89'],\n",
       " ['141', 'Aiman', '84', '92', '78'],\n",
       " ['142', 'Yasmeen', '85', '36', '56'],\n",
       " ['143', 'Tasbeel', '86', '78', '78'],\n",
       " ['144', 'Laraib', '87', '56', '54'],\n",
       " ['145', 'Saleem', '88', '78', '78'],\n",
       " ['146', 'Bismil', '89', '89', '46'],\n",
       " ['147', 'Batool', '90', '56', '79'],\n",
       " ['148', 'Iqra', '91', '33', '46'],\n",
       " ['149', 'Zarnish', '92', '78', '45'],\n",
       " ['150', 'Zara', '83', '45', '56']]"
      ]
     },
     "execution_count": 15,
     "metadata": {},
     "output_type": "execute_result"
    }
   ],
   "source": [
    "student_data = data[1:]\n",
    "student_data"
   ]
  },
  {
   "cell_type": "code",
   "execution_count": 17,
   "id": "26b3d672-c7b6-413b-9f48-bd11e678033a",
   "metadata": {},
   "outputs": [
    {
     "name": "stdout",
     "output_type": "stream",
     "text": [
      "[87.0, 88.0, 89.0, 90.0, 67.0, 68.0, 69.0, 70.0, 71.0, 72.0, 73.0, 74.0, 75.0, 76.0, 77.0, 78.0, 79.0, 80.0, 81.0, 82.0, 83.0, 84.0, 85.0, 86.0, 87.0, 88.0, 89.0, 90.0, 91.0, 92.0, 93.0, 94.0, 95.0, 96.0, 97.0, 98.0, 78.0, 45.0, 46.0, 89.0, 78.0, 56.0, 78.0, 54.0, 78.0, 46.0, 79.0, 46.0, 45.0, 56.0]\n"
     ]
    }
   ],
   "source": [
    "chem_marks = []\n",
    "phy_marks = []\n",
    "maths_marks = []\n",
    "for i in student_data:\n",
    "    chem_marks.append(float(i[2]))\n",
    "    phy_marks.append(float(i[3]))\n",
    "    maths_marks.append(float(i[4]))\n",
    "print(maths_marks)"
   ]
  },
  {
   "cell_type": "code",
   "execution_count": 19,
   "id": "e78d164e-29bf-4040-9cd3-b303340b98ee",
   "metadata": {},
   "outputs": [
    {
     "data": {
      "text/plain": [
       "3421.0"
      ]
     },
     "execution_count": 19,
     "metadata": {},
     "output_type": "execute_result"
    }
   ],
   "source": [
    "sum(chem_marks)"
   ]
  },
  {
   "cell_type": "code",
   "execution_count": 21,
   "id": "feddd01c-80e1-4ab4-8639-727d45774a13",
   "metadata": {},
   "outputs": [
    {
     "data": {
      "text/plain": [
       "3253.0"
      ]
     },
     "execution_count": 21,
     "metadata": {},
     "output_type": "execute_result"
    }
   ],
   "source": [
    "sum(phy_marks)"
   ]
  },
  {
   "cell_type": "code",
   "execution_count": 23,
   "id": "c9c99283-fee6-4e0f-bd07-c33e8edaf09c",
   "metadata": {},
   "outputs": [
    {
     "data": {
      "text/plain": [
       "3868.0"
      ]
     },
     "execution_count": 23,
     "metadata": {},
     "output_type": "execute_result"
    }
   ],
   "source": [
    "sum(maths_marks)"
   ]
  },
  {
   "cell_type": "code",
   "execution_count": 25,
   "id": "2191c2f6-a392-441e-9153-78ea0b4a32f4",
   "metadata": {},
   "outputs": [
    {
     "data": {
      "text/plain": [
       "68.42"
      ]
     },
     "execution_count": 25,
     "metadata": {},
     "output_type": "execute_result"
    }
   ],
   "source": [
    "chem_avg = sum(chem_marks)/len(chem_marks)\n",
    "chem_avg"
   ]
  },
  {
   "cell_type": "code",
   "execution_count": 27,
   "id": "2c975d6d-29ed-4010-ba3f-2c21b183596f",
   "metadata": {},
   "outputs": [
    {
     "data": {
      "text/plain": [
       "65.06"
      ]
     },
     "execution_count": 27,
     "metadata": {},
     "output_type": "execute_result"
    }
   ],
   "source": [
    "phy_avg = sum(phy_marks)/len(phy_marks)\n",
    "phy_avg"
   ]
  },
  {
   "cell_type": "code",
   "execution_count": 29,
   "id": "32e11819-5fb8-484c-9f57-1436349c1485",
   "metadata": {},
   "outputs": [
    {
     "data": {
      "text/plain": [
       "77.36"
      ]
     },
     "execution_count": 29,
     "metadata": {},
     "output_type": "execute_result"
    }
   ],
   "source": [
    "maths_avg = sum(maths_marks)/len(maths_marks)\n",
    "maths_avg"
   ]
  },
  {
   "cell_type": "code",
   "execution_count": 31,
   "id": "fe2f3ee2-8ebc-4e01-91ca-155d436c46e5",
   "metadata": {},
   "outputs": [
    {
     "name": "stdout",
     "output_type": "stream",
     "text": [
      "Average marks of Chemistry: 68.42 \n",
      "Average marks of Physics: 65.06 \n",
      "Average marks of Maths: 77.36\n"
     ]
    }
   ],
   "source": [
    "print(f\"Average marks of Chemistry: {chem_avg} \\nAverage marks of Physics: {phy_avg} \\nAverage marks of Maths: {maths_avg}\")"
   ]
  },
  {
   "cell_type": "code",
   "execution_count": 33,
   "id": "c2e048eb-9e83-4ee1-abcf-c40482e9a590",
   "metadata": {},
   "outputs": [
    {
     "name": "stdout",
     "output_type": "stream",
     "text": [
      "['101', 'Aliza', '50', '23', '87', 53.3, 'Pass']\n",
      "['102', 'Fareed', '45', '24', '88', 52.3, 'Pass']\n",
      "['103', 'Basit', '46', '25', '89', 53.3, 'Pass']\n",
      "['104', 'Abdullah', '47', '26', '90', 54.3, 'Pass']\n",
      "['105', 'Ali', '48', '27', '67', 47.3, 'Fail']\n",
      "['106', 'Mubashir', '49', '28', '68', 48.3, 'Fail']\n",
      "['107', 'Waleed', '50', '29', '69', 49.3, 'Fail']\n",
      "['108', 'Mansoor', '51', '30', '70', 50.3, 'Pass']\n",
      "['109', 'Zain', '52', '31', '71', 51.3, 'Pass']\n",
      "['110', 'Mohsin', '53', '67', '72', 64.0, 'Pass']\n",
      "['111', 'Shahmeer', '54', '68', '73', 65.0, 'Pass']\n",
      "['112', 'Rao', '55', '69', '74', 66.0, 'Pass']\n",
      "['113', 'Aurangzeb', '56', '70', '75', 67.0, 'Pass']\n",
      "['114', 'Zeeshan', '57', '71', '76', 68.0, 'Pass']\n",
      "['115', 'Hamna', '58', '72', '77', 69.0, 'Pass']\n",
      "['116', 'Hamza', '59', '73', '78', 70.0, 'Pass']\n",
      "['117', 'Khalid', '60', '74', '79', 71.0, 'Pass']\n",
      "['118', 'Behroz', '61', '75', '80', 72.0, 'Pass']\n",
      "['119', 'Justin', '62', '76', '81', 73.0, 'Pass']\n",
      "['120', 'Danish', '63', '77', '82', 74.0, 'Pass']\n",
      "['121', 'Kainat', '64', '78', '83', 75.0, 'Pass']\n",
      "['122', 'Sameer', '65', '79', '84', 76.0, 'Pass']\n",
      "['123', 'Raza', '66', '80', '85', 77.0, 'Pass']\n",
      "['124', 'Kumar', '67', '81', '86', 78.0, 'Pass']\n",
      "['125', 'Komal', '68', '82', '87', 79.0, 'Pass']\n",
      "['126', 'Erum', '69', '83', '88', 80.0, 'Pass']\n",
      "['127', 'Faiza', '70', '84', '89', 81.0, 'Pass']\n",
      "['128', 'Saeed', '71', '85', '90', 82.0, 'Pass']\n",
      "['129', 'Waqar', '72', '86', '91', 83.0, 'Pass']\n",
      "['130', 'Wali', '73', '87', '92', 84.0, 'Pass']\n",
      "['131', 'Wajid', '74', '88', '93', 85.0, 'Pass']\n",
      "['132', 'Waseeb', '75', '89', '94', 86.0, 'Pass']\n",
      "['133', 'Shiza', '76', '90', '95', 87.0, 'Pass']\n",
      "['134', 'Shabina', '77', '91', '96', 88.0, 'Pass']\n",
      "['135', 'Shazain', '78', '55', '97', 76.7, 'Pass']\n",
      "['136', 'Lubna', '79', '61', '98', 79.3, 'Pass']\n",
      "['137', 'Laiba', '80', '88', '78', 82.0, 'Pass']\n",
      "['138', 'Khursheed', '81', '56', '45', 60.7, 'Pass']\n",
      "['139', 'Ali', '82', '89', '46', 72.3, 'Pass']\n",
      "['140', 'Aiza', '83', '45', '89', 72.3, 'Pass']\n",
      "['141', 'Aiman', '84', '92', '78', 84.7, 'Pass']\n",
      "['142', 'Yasmeen', '85', '36', '56', 59.0, 'Pass']\n",
      "['143', 'Tasbeel', '86', '78', '78', 80.7, 'Pass']\n",
      "['144', 'Laraib', '87', '56', '54', 65.7, 'Pass']\n",
      "['145', 'Saleem', '88', '78', '78', 81.3, 'Pass']\n",
      "['146', 'Bismil', '89', '89', '46', 74.7, 'Pass']\n",
      "['147', 'Batool', '90', '56', '79', 75.0, 'Pass']\n",
      "['148', 'Iqra', '91', '33', '46', 56.7, 'Pass']\n",
      "['149', 'Zarnish', '92', '78', '45', 71.7, 'Pass']\n",
      "['150', 'Zara', '83', '45', '56', 61.3, 'Pass']\n"
     ]
    }
   ],
   "source": [
    "result = 0\n",
    "for per in student_data:\n",
    "    chem = int(per[2])\n",
    "    phy = int(per[3])\n",
    "    math = int(per[4])\n",
    "    total_marks = chem + phy + math\n",
    "    percentage = round((total_marks/300) * 100,1)\n",
    "    per.append(percentage)\n",
    "    if percentage >=50:\n",
    "        result = \"Pass\"\n",
    "    else:\n",
    "        result = \"Fail\"\n",
    "    per.append(result)\n",
    "    print(per)"
   ]
  },
  {
   "cell_type": "code",
   "execution_count": 35,
   "id": "d0d42267-0eb1-4752-97a8-5a98d2de32b8",
   "metadata": {},
   "outputs": [
    {
     "name": "stdout",
     "output_type": "stream",
     "text": [
      "['roll no', 'Name', 'Chemistry', 'Physics', 'Math', 'Percentage', 'Result']\n"
     ]
    }
   ],
   "source": [
    "header.append('Percentage')\n",
    "header.append('Result')\n",
    "print(header)"
   ]
  },
  {
   "cell_type": "code",
   "execution_count": 37,
   "id": "40bc04d2-2764-485c-a705-7f5fecf1a8c2",
   "metadata": {},
   "outputs": [
    {
     "name": "stdout",
     "output_type": "stream",
     "text": [
      "[['roll no', 'Name', 'Chemistry', 'Physics', 'Math', 'Percentage', 'Result'], ['101', 'Aliza', '50', '23', '87', 53.3, 'Pass'], ['102', 'Fareed', '45', '24', '88', 52.3, 'Pass'], ['103', 'Basit', '46', '25', '89', 53.3, 'Pass'], ['104', 'Abdullah', '47', '26', '90', 54.3, 'Pass'], ['105', 'Ali', '48', '27', '67', 47.3, 'Fail'], ['106', 'Mubashir', '49', '28', '68', 48.3, 'Fail'], ['107', 'Waleed', '50', '29', '69', 49.3, 'Fail'], ['108', 'Mansoor', '51', '30', '70', 50.3, 'Pass'], ['109', 'Zain', '52', '31', '71', 51.3, 'Pass'], ['110', 'Mohsin', '53', '67', '72', 64.0, 'Pass'], ['111', 'Shahmeer', '54', '68', '73', 65.0, 'Pass'], ['112', 'Rao', '55', '69', '74', 66.0, 'Pass'], ['113', 'Aurangzeb', '56', '70', '75', 67.0, 'Pass'], ['114', 'Zeeshan', '57', '71', '76', 68.0, 'Pass'], ['115', 'Hamna', '58', '72', '77', 69.0, 'Pass'], ['116', 'Hamza', '59', '73', '78', 70.0, 'Pass'], ['117', 'Khalid', '60', '74', '79', 71.0, 'Pass'], ['118', 'Behroz', '61', '75', '80', 72.0, 'Pass'], ['119', 'Justin', '62', '76', '81', 73.0, 'Pass'], ['120', 'Danish', '63', '77', '82', 74.0, 'Pass'], ['121', 'Kainat', '64', '78', '83', 75.0, 'Pass'], ['122', 'Sameer', '65', '79', '84', 76.0, 'Pass'], ['123', 'Raza', '66', '80', '85', 77.0, 'Pass'], ['124', 'Kumar', '67', '81', '86', 78.0, 'Pass'], ['125', 'Komal', '68', '82', '87', 79.0, 'Pass'], ['126', 'Erum', '69', '83', '88', 80.0, 'Pass'], ['127', 'Faiza', '70', '84', '89', 81.0, 'Pass'], ['128', 'Saeed', '71', '85', '90', 82.0, 'Pass'], ['129', 'Waqar', '72', '86', '91', 83.0, 'Pass'], ['130', 'Wali', '73', '87', '92', 84.0, 'Pass'], ['131', 'Wajid', '74', '88', '93', 85.0, 'Pass'], ['132', 'Waseeb', '75', '89', '94', 86.0, 'Pass'], ['133', 'Shiza', '76', '90', '95', 87.0, 'Pass'], ['134', 'Shabina', '77', '91', '96', 88.0, 'Pass'], ['135', 'Shazain', '78', '55', '97', 76.7, 'Pass'], ['136', 'Lubna', '79', '61', '98', 79.3, 'Pass'], ['137', 'Laiba', '80', '88', '78', 82.0, 'Pass'], ['138', 'Khursheed', '81', '56', '45', 60.7, 'Pass'], ['139', 'Ali', '82', '89', '46', 72.3, 'Pass'], ['140', 'Aiza', '83', '45', '89', 72.3, 'Pass'], ['141', 'Aiman', '84', '92', '78', 84.7, 'Pass'], ['142', 'Yasmeen', '85', '36', '56', 59.0, 'Pass'], ['143', 'Tasbeel', '86', '78', '78', 80.7, 'Pass'], ['144', 'Laraib', '87', '56', '54', 65.7, 'Pass'], ['145', 'Saleem', '88', '78', '78', 81.3, 'Pass'], ['146', 'Bismil', '89', '89', '46', 74.7, 'Pass'], ['147', 'Batool', '90', '56', '79', 75.0, 'Pass'], ['148', 'Iqra', '91', '33', '46', 56.7, 'Pass'], ['149', 'Zarnish', '92', '78', '45', 71.7, 'Pass'], ['150', 'Zara', '83', '45', '56', 61.3, 'Pass']]\n"
     ]
    }
   ],
   "source": [
    "print(data)"
   ]
  },
  {
   "cell_type": "code",
   "execution_count": 39,
   "id": "58b24593-9eb9-4aaa-a7cc-6ad7a4d3e9ca",
   "metadata": {},
   "outputs": [
    {
     "data": {
      "text/plain": [
       "<_io.TextIOWrapper name='Updated Data.csv' mode='w' encoding='cp1252'>"
      ]
     },
     "execution_count": 39,
     "metadata": {},
     "output_type": "execute_result"
    }
   ],
   "source": [
    "new_file = open('Updated Data.csv', mode='w', newline='')\n",
    "new_file"
   ]
  },
  {
   "cell_type": "code",
   "execution_count": 41,
   "id": "5c9f18d2-cf13-46e0-9e63-46d31c495cf4",
   "metadata": {},
   "outputs": [
    {
     "data": {
      "text/plain": [
       "<_csv.writer at 0x1b015f4d720>"
      ]
     },
     "execution_count": 41,
     "metadata": {},
     "output_type": "execute_result"
    }
   ],
   "source": [
    "writer = csv.writer(new_file)\n",
    "writer"
   ]
  },
  {
   "cell_type": "code",
   "execution_count": 43,
   "id": "960a9810-6838-4fa5-a949-221009f36674",
   "metadata": {},
   "outputs": [],
   "source": [
    "writer.writerows(data)"
   ]
  },
  {
   "cell_type": "code",
   "execution_count": 45,
   "id": "051a7f2c-77b7-49f3-adb7-00274d88498f",
   "metadata": {},
   "outputs": [],
   "source": [
    "new_file.close()"
   ]
  },
  {
   "cell_type": "code",
   "execution_count": null,
   "id": "1c12b41a-02a9-4e47-8827-e7cb15041214",
   "metadata": {},
   "outputs": [],
   "source": []
  }
 ],
 "metadata": {
  "kernelspec": {
   "display_name": "Python 3 (ipykernel)",
   "language": "python",
   "name": "python3"
  },
  "language_info": {
   "codemirror_mode": {
    "name": "ipython",
    "version": 3
   },
   "file_extension": ".py",
   "mimetype": "text/x-python",
   "name": "python",
   "nbconvert_exporter": "python",
   "pygments_lexer": "ipython3",
   "version": "3.12.4"
  }
 },
 "nbformat": 4,
 "nbformat_minor": 5
}
